{
 "cells": [
  {
   "cell_type": "code",
   "execution_count": 1,
   "id": "3e0d26a5",
   "metadata": {},
   "outputs": [
    {
     "data": {
      "text/html": [
       "        <script type=\"text/javascript\">\n",
       "        window.PlotlyConfig = {MathJaxConfig: 'local'};\n",
       "        if (window.MathJax) {MathJax.Hub.Config({SVG: {font: \"STIX-Web\"}});}\n",
       "        if (typeof require !== 'undefined') {\n",
       "        require.undef(\"plotly\");\n",
       "        requirejs.config({\n",
       "            paths: {\n",
       "                'plotly': ['https://cdn.plot.ly/plotly-2.4.2.min']\n",
       "            }\n",
       "        });\n",
       "        require(['plotly'], function(Plotly) {\n",
       "            window._Plotly = Plotly;\n",
       "        });\n",
       "        }\n",
       "        </script>\n",
       "        "
      ]
     },
     "metadata": {},
     "output_type": "display_data"
    },
    {
     "data": {
      "text/html": [
       "        <script type=\"text/javascript\">\n",
       "        window.PlotlyConfig = {MathJaxConfig: 'local'};\n",
       "        if (window.MathJax) {MathJax.Hub.Config({SVG: {font: \"STIX-Web\"}});}\n",
       "        if (typeof require !== 'undefined') {\n",
       "        require.undef(\"plotly\");\n",
       "        requirejs.config({\n",
       "            paths: {\n",
       "                'plotly': ['https://cdn.plot.ly/plotly-2.4.2.min']\n",
       "            }\n",
       "        });\n",
       "        require(['plotly'], function(Plotly) {\n",
       "            window._Plotly = Plotly;\n",
       "        });\n",
       "        }\n",
       "        </script>\n",
       "        "
      ]
     },
     "metadata": {},
     "output_type": "display_data"
    }
   ],
   "source": [
    "%load_ext autoreload\n",
    "%autoreload 2\n",
    "\n",
    "import pandas as pd\n",
    "import numpy as np\n",
    "import datetime\n",
    "\n",
    "import os\n",
    "import pendulum\n",
    "import scipy\n",
    "import scikit_posthocs as sp\n",
    "import seaborn as sns\n",
    "import matplotlib as mpl\n",
    "import matplotlib.pyplot as plt\n",
    "import plotly.express as px\n",
    "\n",
    "# Load Statsmodels \n",
    "import statsmodels.api as sm\n",
    "from pandas.tseries.holiday import USFederalHolidayCalendar as calendar\n",
    "from statsmodels.stats.multicomp import pairwise_tukeyhsd\n",
    "\n",
    "import plotly\n",
    "from plotly.offline import init_notebook_mode\n",
    "init_notebook_mode(connected=True)\n",
    "plotly.offline.init_notebook_mode(connected=True)"
   ]
  },
  {
   "cell_type": "code",
   "execution_count": 2,
   "id": "13cb817b",
   "metadata": {},
   "outputs": [
    {
     "data": {
      "text/html": [
       "<style>.container { width:85% !important; }</style>"
      ],
      "text/plain": [
       "<IPython.core.display.HTML object>"
      ]
     },
     "metadata": {},
     "output_type": "display_data"
    }
   ],
   "source": [
    "# Configure Pandas to display all columns and rows\n",
    "pd.set_option(\"display.max.columns\", None)\n",
    "pd.set_option(\"display.max.rows\", None)\n",
    "\n",
    "# Suitable default display for floats\n",
    "pd.options.display.float_format = '{:,.2f}'.format\n",
    "\n",
    "%matplotlib inline\n",
    "plt.rcParams[\"figure.figsize\"] = (10,8)\n",
    "sns.set_style(\"whitegrid\")\n",
    "sns.set_style(\"ticks\", {\"xtick.major.size\": 8, \"ytick.major.size\": 8})\n",
    "\n",
    "from IPython.core.display import display, HTML\n",
    "display(HTML(\"<style>.container { width:85% !important; }</style>\"))"
   ]
  },
  {
   "cell_type": "markdown",
   "id": "19241279",
   "metadata": {},
   "source": [
    "## Load final data"
   ]
  },
  {
   "cell_type": "code",
   "execution_count": 175,
   "id": "14873555",
   "metadata": {},
   "outputs": [],
   "source": [
    "df = pd.read_csv('data/df_final.csv')"
   ]
  },
  {
   "cell_type": "code",
   "execution_count": 176,
   "id": "f56a8247",
   "metadata": {},
   "outputs": [
    {
     "data": {
      "text/html": [
       "<div>\n",
       "<style scoped>\n",
       "    .dataframe tbody tr th:only-of-type {\n",
       "        vertical-align: middle;\n",
       "    }\n",
       "\n",
       "    .dataframe tbody tr th {\n",
       "        vertical-align: top;\n",
       "    }\n",
       "\n",
       "    .dataframe thead th {\n",
       "        text-align: right;\n",
       "    }\n",
       "</style>\n",
       "<table border=\"1\" class=\"dataframe\">\n",
       "  <thead>\n",
       "    <tr style=\"text-align: right;\">\n",
       "      <th></th>\n",
       "      <th>PRODUCT_KEY</th>\n",
       "      <th>GEOGRAPHY_KEY</th>\n",
       "      <th>TIME_KEY</th>\n",
       "      <th>UNIT_SALES</th>\n",
       "      <th>DOLLAR_SALES</th>\n",
       "      <th>VOLUME_SALES</th>\n",
       "      <th>WEEKLY_DATE</th>\n",
       "      <th>GEOGRAPHY_KEY.1</th>\n",
       "      <th>GEOGRAPHY_DESCRIPTION</th>\n",
       "      <th>WHOLESALER_ID_VALUE</th>\n",
       "      <th>RETAILER_NAME</th>\n",
       "      <th>CITY</th>\n",
       "      <th>STATE_CODE</th>\n",
       "      <th>ZIP_CODE</th>\n",
       "      <th>OUTLET_NAME</th>\n",
       "      <th>PRODUCT_KEY.1</th>\n",
       "      <th>PRODUCT_DESCRIPTION</th>\n",
       "      <th>AB_CATEGORY_STYLE_VALUE</th>\n",
       "      <th>AB_WAMP_VALUE</th>\n",
       "      <th>BEER_STYLE_VALUE</th>\n",
       "      <th>BRAND_VALUE</th>\n",
       "      <th>BREWER_VALUE</th>\n",
       "      <th>TYPE_VALUE</th>\n",
       "    </tr>\n",
       "  </thead>\n",
       "  <tbody>\n",
       "    <tr>\n",
       "      <th>0</th>\n",
       "      <td>210280222</td>\n",
       "      <td>39774</td>\n",
       "      <td>2051</td>\n",
       "      <td>15.00</td>\n",
       "      <td>29.85</td>\n",
       "      <td>1.30</td>\n",
       "      <td>2018-12-23</td>\n",
       "      <td>39774</td>\n",
       "      <td>RITE AID PHARMACY 568 : 50 S MAIN ST, JAMESTOW...</td>\n",
       "      <td>3142</td>\n",
       "      <td>RITE AID - RITE AID PHARMACY</td>\n",
       "      <td>JAMESTOWN</td>\n",
       "      <td>NY</td>\n",
       "      <td>14701</td>\n",
       "      <td>DRUG</td>\n",
       "      <td>210280222</td>\n",
       "      <td>**********</td>\n",
       "      <td>CLASSIC LAGER</td>\n",
       "      <td>CORE</td>\n",
       "      <td>AMERICAN LAGER</td>\n",
       "      <td>**********</td>\n",
       "      <td>ANHEUSER-BUSCH INBEV</td>\n",
       "      <td>BEER</td>\n",
       "    </tr>\n",
       "    <tr>\n",
       "      <th>1</th>\n",
       "      <td>210281267</td>\n",
       "      <td>39774</td>\n",
       "      <td>2051</td>\n",
       "      <td>36.00</td>\n",
       "      <td>71.64</td>\n",
       "      <td>3.10</td>\n",
       "      <td>2018-12-23</td>\n",
       "      <td>39774</td>\n",
       "      <td>RITE AID PHARMACY 568 : 50 S MAIN ST, JAMESTOW...</td>\n",
       "      <td>3142</td>\n",
       "      <td>RITE AID - RITE AID PHARMACY</td>\n",
       "      <td>JAMESTOWN</td>\n",
       "      <td>NY</td>\n",
       "      <td>14701</td>\n",
       "      <td>DRUG</td>\n",
       "      <td>210281267</td>\n",
       "      <td>**********</td>\n",
       "      <td>EASY DRINKING</td>\n",
       "      <td>CORE</td>\n",
       "      <td>AMERICAN LAGER</td>\n",
       "      <td>**********</td>\n",
       "      <td>ANHEUSER-BUSCH INBEV</td>\n",
       "      <td>BEER</td>\n",
       "    </tr>\n",
       "    <tr>\n",
       "      <th>2</th>\n",
       "      <td>210283096</td>\n",
       "      <td>5446689</td>\n",
       "      <td>2051</td>\n",
       "      <td>296.00</td>\n",
       "      <td>298.32</td>\n",
       "      <td>25.70</td>\n",
       "      <td>2018-12-23</td>\n",
       "      <td>5446689</td>\n",
       "      <td>SPEEDWAY SUPERAMERICA 7877 : 2121 FOREST AVE, ...</td>\n",
       "      <td>43100</td>\n",
       "      <td>7 ELEVEN - SPEEDWAY SUPERAMERICA</td>\n",
       "      <td>STATEN ISLAND</td>\n",
       "      <td>NY</td>\n",
       "      <td>10303</td>\n",
       "      <td>CONVENIENCE</td>\n",
       "      <td>210283096</td>\n",
       "      <td>**********</td>\n",
       "      <td>CLASSIC LAGER</td>\n",
       "      <td>VALUE</td>\n",
       "      <td>AMERICAN LAGER</td>\n",
       "      <td>**********</td>\n",
       "      <td>ANHEUSER-BUSCH INBEV</td>\n",
       "      <td>BEER</td>\n",
       "    </tr>\n",
       "    <tr>\n",
       "      <th>3</th>\n",
       "      <td>210280222</td>\n",
       "      <td>627036</td>\n",
       "      <td>2051</td>\n",
       "      <td>35.00</td>\n",
       "      <td>71.21</td>\n",
       "      <td>3.00</td>\n",
       "      <td>2018-12-23</td>\n",
       "      <td>627036</td>\n",
       "      <td>7 ELEVEN/NORTH ATLANTIC DIV 35205 : 518 N MAIN...</td>\n",
       "      <td>3142</td>\n",
       "      <td>7-ELEVEN - 7 ELEVEN/NORTH ATLANTIC DIV</td>\n",
       "      <td>JAMESTOWN</td>\n",
       "      <td>NY</td>\n",
       "      <td>14701</td>\n",
       "      <td>CONVENIENCE</td>\n",
       "      <td>210280222</td>\n",
       "      <td>**********</td>\n",
       "      <td>CLASSIC LAGER</td>\n",
       "      <td>CORE</td>\n",
       "      <td>AMERICAN LAGER</td>\n",
       "      <td>**********</td>\n",
       "      <td>ANHEUSER-BUSCH INBEV</td>\n",
       "      <td>BEER</td>\n",
       "    </tr>\n",
       "    <tr>\n",
       "      <th>4</th>\n",
       "      <td>210283096</td>\n",
       "      <td>147449</td>\n",
       "      <td>2051</td>\n",
       "      <td>85.00</td>\n",
       "      <td>126.65</td>\n",
       "      <td>7.40</td>\n",
       "      <td>2018-12-23</td>\n",
       "      <td>147449</td>\n",
       "      <td>K MART 7749 : 250 W 34TH ST, NEW YORK, NY</td>\n",
       "      <td>43100</td>\n",
       "      <td>KMART - K MART</td>\n",
       "      <td>NEW YORK</td>\n",
       "      <td>NY</td>\n",
       "      <td>10119</td>\n",
       "      <td>MASS MERCHANDISER</td>\n",
       "      <td>210283096</td>\n",
       "      <td>**********</td>\n",
       "      <td>CLASSIC LAGER</td>\n",
       "      <td>VALUE</td>\n",
       "      <td>AMERICAN LAGER</td>\n",
       "      <td>**********</td>\n",
       "      <td>ANHEUSER-BUSCH INBEV</td>\n",
       "      <td>BEER</td>\n",
       "    </tr>\n",
       "  </tbody>\n",
       "</table>\n",
       "</div>"
      ],
      "text/plain": [
       "   PRODUCT_KEY  GEOGRAPHY_KEY  TIME_KEY  UNIT_SALES  DOLLAR_SALES  \\\n",
       "0    210280222          39774      2051       15.00         29.85   \n",
       "1    210281267          39774      2051       36.00         71.64   \n",
       "2    210283096        5446689      2051      296.00        298.32   \n",
       "3    210280222         627036      2051       35.00         71.21   \n",
       "4    210283096         147449      2051       85.00        126.65   \n",
       "\n",
       "   VOLUME_SALES WEEKLY_DATE  GEOGRAPHY_KEY.1  \\\n",
       "0          1.30  2018-12-23            39774   \n",
       "1          3.10  2018-12-23            39774   \n",
       "2         25.70  2018-12-23          5446689   \n",
       "3          3.00  2018-12-23           627036   \n",
       "4          7.40  2018-12-23           147449   \n",
       "\n",
       "                               GEOGRAPHY_DESCRIPTION  WHOLESALER_ID_VALUE  \\\n",
       "0  RITE AID PHARMACY 568 : 50 S MAIN ST, JAMESTOW...                 3142   \n",
       "1  RITE AID PHARMACY 568 : 50 S MAIN ST, JAMESTOW...                 3142   \n",
       "2  SPEEDWAY SUPERAMERICA 7877 : 2121 FOREST AVE, ...                43100   \n",
       "3  7 ELEVEN/NORTH ATLANTIC DIV 35205 : 518 N MAIN...                 3142   \n",
       "4          K MART 7749 : 250 W 34TH ST, NEW YORK, NY                43100   \n",
       "\n",
       "                            RETAILER_NAME           CITY STATE_CODE  ZIP_CODE  \\\n",
       "0            RITE AID - RITE AID PHARMACY      JAMESTOWN         NY     14701   \n",
       "1            RITE AID - RITE AID PHARMACY      JAMESTOWN         NY     14701   \n",
       "2        7 ELEVEN - SPEEDWAY SUPERAMERICA  STATEN ISLAND         NY     10303   \n",
       "3  7-ELEVEN - 7 ELEVEN/NORTH ATLANTIC DIV      JAMESTOWN         NY     14701   \n",
       "4                          KMART - K MART       NEW YORK         NY     10119   \n",
       "\n",
       "         OUTLET_NAME  PRODUCT_KEY.1 PRODUCT_DESCRIPTION  \\\n",
       "0               DRUG      210280222          **********   \n",
       "1               DRUG      210281267          **********   \n",
       "2        CONVENIENCE      210283096          **********   \n",
       "3        CONVENIENCE      210280222          **********   \n",
       "4  MASS MERCHANDISER      210283096          **********   \n",
       "\n",
       "  AB_CATEGORY_STYLE_VALUE AB_WAMP_VALUE BEER_STYLE_VALUE BRAND_VALUE  \\\n",
       "0           CLASSIC LAGER          CORE   AMERICAN LAGER  **********   \n",
       "1           EASY DRINKING          CORE   AMERICAN LAGER  **********   \n",
       "2           CLASSIC LAGER         VALUE   AMERICAN LAGER  **********   \n",
       "3           CLASSIC LAGER          CORE   AMERICAN LAGER  **********   \n",
       "4           CLASSIC LAGER         VALUE   AMERICAN LAGER  **********   \n",
       "\n",
       "           BREWER_VALUE TYPE_VALUE  \n",
       "0  ANHEUSER-BUSCH INBEV       BEER  \n",
       "1  ANHEUSER-BUSCH INBEV       BEER  \n",
       "2  ANHEUSER-BUSCH INBEV       BEER  \n",
       "3  ANHEUSER-BUSCH INBEV       BEER  \n",
       "4  ANHEUSER-BUSCH INBEV       BEER  "
      ]
     },
     "execution_count": 176,
     "metadata": {},
     "output_type": "execute_result"
    }
   ],
   "source": [
    "df.head()"
   ]
  },
  {
   "cell_type": "markdown",
   "id": "c75e0ab5",
   "metadata": {},
   "source": [
    "## Explore data"
   ]
  },
  {
   "cell_type": "code",
   "execution_count": 180,
   "id": "5777ac00",
   "metadata": {},
   "outputs": [
    {
     "data": {
      "text/plain": [
       "(16357, 23)"
      ]
     },
     "execution_count": 180,
     "metadata": {},
     "output_type": "execute_result"
    }
   ],
   "source": [
    "df.shape"
   ]
  },
  {
   "cell_type": "code",
   "execution_count": 181,
   "id": "66506e4b",
   "metadata": {},
   "outputs": [
    {
     "data": {
      "text/plain": [
       "product_key                  int64\n",
       "geography_key                int64\n",
       "time_key                     int64\n",
       "unit_sales                 float64\n",
       "dollar_sales               float64\n",
       "volume_sales               float64\n",
       "weekly_date                 object\n",
       "geography_key.1              int64\n",
       "geography_description       object\n",
       "wholesaler_id_value          int64\n",
       "retailer_name               object\n",
       "city                        object\n",
       "state_code                  object\n",
       "zip_code                     int64\n",
       "outlet_name                 object\n",
       "product_key.1                int64\n",
       "product_description         object\n",
       "ab_category_style_value     object\n",
       "ab_wamp_value               object\n",
       "beer_style_value            object\n",
       "brand_value                 object\n",
       "brewer_value                object\n",
       "type_value                  object\n",
       "dtype: object"
      ]
     },
     "execution_count": 181,
     "metadata": {},
     "output_type": "execute_result"
    }
   ],
   "source": [
    "# Data types of the columns\n",
    "\n",
    "df.dtypes"
   ]
  },
  {
   "cell_type": "code",
   "execution_count": 182,
   "id": "97df5939",
   "metadata": {},
   "outputs": [
    {
     "data": {
      "text/plain": [
       "product_key                         int64\n",
       "geography_key                       int64\n",
       "time_key                            int64\n",
       "unit_sales                        float64\n",
       "dollar_sales                      float64\n",
       "volume_sales                      float64\n",
       "weekly_date                        object\n",
       "geography_key.1                     int64\n",
       "geography_description              object\n",
       "wholesaler_id_value                 int64\n",
       "retailer_name                      object\n",
       "city                               object\n",
       "state_code                         object\n",
       "zip_code                            int64\n",
       "outlet_name                        object\n",
       "product_key.1                       int64\n",
       "product_description                object\n",
       "ab_category_style_value            object\n",
       "ab_wamp_value                      object\n",
       "beer_style_value                   object\n",
       "brand_value                        object\n",
       "brewer_value                       object\n",
       "type_value                         object\n",
       "dates                      datetime64[ns]\n",
       "dtype: object"
      ]
     },
     "execution_count": 182,
     "metadata": {},
     "output_type": "execute_result"
    }
   ],
   "source": [
    "# conver the date col to datetime\n",
    "df['dates'] = pd.to_datetime(df['weekly_date'])\n",
    "\n",
    "df.dtypes"
   ]
  },
  {
   "cell_type": "markdown",
   "id": "308cb6f3",
   "metadata": {},
   "source": [
    "## Generate ACF and PACF plots"
   ]
  },
  {
   "cell_type": "markdown",
   "id": "d8570706",
   "metadata": {},
   "source": [
    "#### Few feature engineering approaches to experiment with - \n",
    "\n",
    "- **Lagged features for the target variable**\n",
    "- **Rolling window feature.**"
   ]
  },
  {
   "cell_type": "markdown",
   "id": "035c7fe0",
   "metadata": {},
   "source": [
    "### For lagged features - plot ACF plots and PACF plots\n",
    "\n",
    "- `ACF plots helps to understand the correlation between time series and the lagged version of itself.`\n",
    "- `PACF plots helps to understand the correlation between the time series with a lagged version of itself but after    eliminating the variations already explained by the intervening comparisons.`"
   ]
  },
  {
   "cell_type": "code",
   "execution_count": 219,
   "id": "56d8f15c",
   "metadata": {},
   "outputs": [
    {
     "data": {
      "text/plain": [
       "Text(0.5, 1.0, 'PACF plot for unit_sales')"
      ]
     },
     "execution_count": 219,
     "metadata": {},
     "output_type": "execute_result"
    },
    {
     "data": {
      "image/png": "[encoded data removed]",
      "text/plain": [
       "<Figure size 720x576 with 1 Axes>"
      ]
     },
     "metadata": {},
     "output_type": "display_data"
    },
    {
     "data": {
      "image/png": "[encoded data removed]",
      "text/plain": [
       "<Figure size 720x576 with 1 Axes>"
      ]
     },
     "metadata": {},
     "output_type": "display_data"
    }
   ],
   "source": [
    "from statsmodels.graphics.tsaplots import plot_acf, plot_pacf\n",
    "\n",
    "       \n",
    "plot_acf(df['unit_sales'], lags=15)\n",
    "plt.title('ACF plot for unit_sales')\n",
    "\n",
    "plot_pacf(df['unit_sales'], lags=10, method='ols')\n",
    "plt.title('PACF plot for unit_sales')"
   ]
  },
  {
   "cell_type": "markdown",
   "id": "5853cf20",
   "metadata": {},
   "source": [
    "- **`There are several autocorrelations that are significantly non-zero. Therefore, the time series is non-random and is not white noise.`** <br>\n",
    "- **`High degree of autocorrelation between adjacent (lag = 2) and near-adjacent (lag = 5) observations in PACF plot`**\n",
    "- **`High degree of autocorrelation between several adjacent lag observations in ACF plot.`**"
   ]
  },
  {
   "cell_type": "markdown",
   "id": "4039d97d",
   "metadata": {},
   "source": [
    "## Feature Engineering"
   ]
  },
  {
   "cell_type": "markdown",
   "id": "8ed127b6",
   "metadata": {},
   "source": [
    "## Considering the autocorrelations based on ACF  & PACF plots - Create lagged features"
   ]
  },
  {
   "cell_type": "code",
   "execution_count": 147,
   "id": "ad0c1042",
   "metadata": {},
   "outputs": [
    {
     "data": {
      "text/plain": [
       "(2534, 25)"
      ]
     },
     "execution_count": 147,
     "metadata": {},
     "output_type": "execute_result"
    }
   ],
   "source": [
    "def get_lagged_features(df, col):\n",
    "    \n",
    "    df_lagged = df.copy()\n",
    "      \n",
    "    df_lagged[f'{col}_lag_2'] = df_lagged[col].shift(2)\n",
    "    df_lagged[f'{col}_lag_5'] = df_lagged[col].shift(5)    \n",
    "\n",
    "    df_lagged = df_lagged.fillna(method='bfill')\n",
    "    \n",
    "    return df_lagged\n",
    "\n",
    "df_lagged = get_lagged_features(df, 'unit_sales')\n",
    "df_lagged.shape"
   ]
  },
  {
   "cell_type": "markdown",
   "id": "ca5b8885",
   "metadata": {},
   "source": [
    "## Create rolling window features"
   ]
  },
  {
   "cell_type": "code",
   "execution_count": 148,
   "id": "be82a681",
   "metadata": {},
   "outputs": [
    {
     "data": {
      "text/plain": [
       "(2534, 26)"
      ]
     },
     "execution_count": 148,
     "metadata": {},
     "output_type": "execute_result"
    }
   ],
   "source": [
    "def get_rolling_window_features(df, col):\n",
    "    \n",
    "    df_rolling_window = df.copy()\n",
    "      \n",
    "    df_rolling_window[f'{col}_rolling_mean'] = df_rolling_window[col].rolling(window=8).mean()\n",
    "    df_rolling_window = df_rolling_window.fillna(method='bfill')\n",
    "    \n",
    "    return df_rolling_window\n",
    "\n",
    "df_rolling_window = get_rolling_window_features(df_lagged, 'unit_sales')\n",
    "df_rolling_window.shape"
   ]
  },
  {
   "cell_type": "code",
   "execution_count": 149,
   "id": "6c6cb1a0",
   "metadata": {},
   "outputs": [
    {
     "data": {
      "text/html": [
       "<div>\n",
       "<style scoped>\n",
       "    .dataframe tbody tr th:only-of-type {\n",
       "        vertical-align: middle;\n",
       "    }\n",
       "\n",
       "    .dataframe tbody tr th {\n",
       "        vertical-align: top;\n",
       "    }\n",
       "\n",
       "    .dataframe thead th {\n",
       "        text-align: right;\n",
       "    }\n",
       "</style>\n",
       "<table border=\"1\" class=\"dataframe\">\n",
       "  <thead>\n",
       "    <tr style=\"text-align: right;\">\n",
       "      <th></th>\n",
       "      <th>dates</th>\n",
       "      <th>wholesaler_id_value</th>\n",
       "      <th>state_code</th>\n",
       "      <th>retailer_name</th>\n",
       "      <th>outlet_name</th>\n",
       "      <th>product_key</th>\n",
       "      <th>ab_category_style_value</th>\n",
       "      <th>ab_wamp_value</th>\n",
       "      <th>beer_style_value</th>\n",
       "      <th>brewer_value</th>\n",
       "      <th>type_value</th>\n",
       "      <th>unit_sales</th>\n",
       "      <th>dollar_sales</th>\n",
       "      <th>volume_sales</th>\n",
       "      <th>year</th>\n",
       "      <th>month</th>\n",
       "      <th>day</th>\n",
       "      <th>week</th>\n",
       "      <th>season</th>\n",
       "      <th>holiday</th>\n",
       "      <th>product_price</th>\n",
       "      <th>relative_beer_style_price</th>\n",
       "      <th>beer_style_mean_price</th>\n",
       "      <th>unit_sales_lag_2</th>\n",
       "      <th>unit_sales_lag_5</th>\n",
       "      <th>unit_sales_rolling_mean</th>\n",
       "    </tr>\n",
       "  </thead>\n",
       "  <tbody>\n",
       "    <tr>\n",
       "      <th>0</th>\n",
       "      <td>2018-12-23</td>\n",
       "      <td>33107</td>\n",
       "      <td>NY</td>\n",
       "      <td>WEGMANS - WEGMANS</td>\n",
       "      <td>GROCERY</td>\n",
       "      <td>1412422</td>\n",
       "      <td>EASY DRINKING</td>\n",
       "      <td>PREMIUM</td>\n",
       "      <td>TROPICAL LAGER</td>\n",
       "      <td>CONSTELLATION BRANDS</td>\n",
       "      <td>BEER</td>\n",
       "      <td>22.00</td>\n",
       "      <td>318.78</td>\n",
       "      <td>11.00</td>\n",
       "      <td>2018</td>\n",
       "      <td>12</td>\n",
       "      <td>23</td>\n",
       "      <td>51</td>\n",
       "      <td>winter</td>\n",
       "      <td>0</td>\n",
       "      <td>14.49</td>\n",
       "      <td>0.97</td>\n",
       "      <td>14.96</td>\n",
       "      <td>22.00</td>\n",
       "      <td>22.00</td>\n",
       "      <td>30.50</td>\n",
       "    </tr>\n",
       "    <tr>\n",
       "      <th>1</th>\n",
       "      <td>2018-12-23</td>\n",
       "      <td>33107</td>\n",
       "      <td>NY</td>\n",
       "      <td>WEGMANS - WEGMANS</td>\n",
       "      <td>GROCERY</td>\n",
       "      <td>609521221</td>\n",
       "      <td>HARD BEVERAGES (BEER)</td>\n",
       "      <td>BEYOND BEER</td>\n",
       "      <td>VARIETY PACK/SAMPLER</td>\n",
       "      <td>BOSTON BEER CO</td>\n",
       "      <td>MALT BEVERAGE</td>\n",
       "      <td>32.00</td>\n",
       "      <td>479.68</td>\n",
       "      <td>16.00</td>\n",
       "      <td>2018</td>\n",
       "      <td>12</td>\n",
       "      <td>23</td>\n",
       "      <td>51</td>\n",
       "      <td>winter</td>\n",
       "      <td>0</td>\n",
       "      <td>14.99</td>\n",
       "      <td>1.00</td>\n",
       "      <td>15.04</td>\n",
       "      <td>22.00</td>\n",
       "      <td>22.00</td>\n",
       "      <td>30.50</td>\n",
       "    </tr>\n",
       "    <tr>\n",
       "      <th>2</th>\n",
       "      <td>2018-12-23</td>\n",
       "      <td>33107</td>\n",
       "      <td>NY</td>\n",
       "      <td>WEGMANS - WEGMANS</td>\n",
       "      <td>GROCERY</td>\n",
       "      <td>1321133691</td>\n",
       "      <td>HARD BEVERAGES (BEER)</td>\n",
       "      <td>BEYOND BEER</td>\n",
       "      <td>VARIETY PACK/SAMPLER</td>\n",
       "      <td>BOSTON BEER CO</td>\n",
       "      <td>MALT BEVERAGE</td>\n",
       "      <td>33.00</td>\n",
       "      <td>494.67</td>\n",
       "      <td>16.50</td>\n",
       "      <td>2018</td>\n",
       "      <td>12</td>\n",
       "      <td>23</td>\n",
       "      <td>51</td>\n",
       "      <td>winter</td>\n",
       "      <td>0</td>\n",
       "      <td>14.99</td>\n",
       "      <td>1.00</td>\n",
       "      <td>15.04</td>\n",
       "      <td>22.00</td>\n",
       "      <td>22.00</td>\n",
       "      <td>30.50</td>\n",
       "    </tr>\n",
       "    <tr>\n",
       "      <th>3</th>\n",
       "      <td>2018-12-23</td>\n",
       "      <td>33107</td>\n",
       "      <td>NY</td>\n",
       "      <td>WEGMANS - WEGMANS</td>\n",
       "      <td>GROCERY</td>\n",
       "      <td>659550424</td>\n",
       "      <td>HARD BEVERAGES (BEER)</td>\n",
       "      <td>BEYOND BEER</td>\n",
       "      <td>VARIETY PACK/SAMPLER</td>\n",
       "      <td>MARK ANTHONY BRANDS INC</td>\n",
       "      <td>MALT BEVERAGE</td>\n",
       "      <td>30.00</td>\n",
       "      <td>448.70</td>\n",
       "      <td>15.00</td>\n",
       "      <td>2018</td>\n",
       "      <td>12</td>\n",
       "      <td>23</td>\n",
       "      <td>51</td>\n",
       "      <td>winter</td>\n",
       "      <td>0</td>\n",
       "      <td>14.96</td>\n",
       "      <td>0.99</td>\n",
       "      <td>15.04</td>\n",
       "      <td>32.00</td>\n",
       "      <td>22.00</td>\n",
       "      <td>30.50</td>\n",
       "    </tr>\n",
       "    <tr>\n",
       "      <th>4</th>\n",
       "      <td>2018-12-23</td>\n",
       "      <td>33107</td>\n",
       "      <td>NY</td>\n",
       "      <td>WEGMANS - WEGMANS</td>\n",
       "      <td>GROCERY</td>\n",
       "      <td>262793636</td>\n",
       "      <td>CRAFT &amp; STYLES</td>\n",
       "      <td>PREMIUM</td>\n",
       "      <td>IPA</td>\n",
       "      <td>FOUNDERS BREWING CO</td>\n",
       "      <td>BEER</td>\n",
       "      <td>22.00</td>\n",
       "      <td>373.78</td>\n",
       "      <td>13.80</td>\n",
       "      <td>2018</td>\n",
       "      <td>12</td>\n",
       "      <td>23</td>\n",
       "      <td>51</td>\n",
       "      <td>winter</td>\n",
       "      <td>0</td>\n",
       "      <td>16.99</td>\n",
       "      <td>0.99</td>\n",
       "      <td>17.22</td>\n",
       "      <td>33.00</td>\n",
       "      <td>22.00</td>\n",
       "      <td>30.50</td>\n",
       "    </tr>\n",
       "  </tbody>\n",
       "</table>\n",
       "</div>"
      ],
      "text/plain": [
       "       dates  wholesaler_id_value state_code      retailer_name outlet_name  \\\n",
       "0 2018-12-23                33107         NY  WEGMANS - WEGMANS     GROCERY   \n",
       "1 2018-12-23                33107         NY  WEGMANS - WEGMANS     GROCERY   \n",
       "2 2018-12-23                33107         NY  WEGMANS - WEGMANS     GROCERY   \n",
       "3 2018-12-23                33107         NY  WEGMANS - WEGMANS     GROCERY   \n",
       "4 2018-12-23                33107         NY  WEGMANS - WEGMANS     GROCERY   \n",
       "\n",
       "   product_key ab_category_style_value ab_wamp_value      beer_style_value  \\\n",
       "0      1412422           EASY DRINKING       PREMIUM        TROPICAL LAGER   \n",
       "1    609521221   HARD BEVERAGES (BEER)   BEYOND BEER  VARIETY PACK/SAMPLER   \n",
       "2   1321133691   HARD BEVERAGES (BEER)   BEYOND BEER  VARIETY PACK/SAMPLER   \n",
       "3    659550424   HARD BEVERAGES (BEER)   BEYOND BEER  VARIETY PACK/SAMPLER   \n",
       "4    262793636          CRAFT & STYLES       PREMIUM                   IPA   \n",
       "\n",
       "              brewer_value     type_value  unit_sales  dollar_sales  \\\n",
       "0     CONSTELLATION BRANDS           BEER       22.00        318.78   \n",
       "1           BOSTON BEER CO  MALT BEVERAGE       32.00        479.68   \n",
       "2           BOSTON BEER CO  MALT BEVERAGE       33.00        494.67   \n",
       "3  MARK ANTHONY BRANDS INC  MALT BEVERAGE       30.00        448.70   \n",
       "4      FOUNDERS BREWING CO           BEER       22.00        373.78   \n",
       "\n",
       "   volume_sales  year  month  day  week  season  holiday  product_price  \\\n",
       "0         11.00  2018     12   23    51  winter        0          14.49   \n",
       "1         16.00  2018     12   23    51  winter        0          14.99   \n",
       "2         16.50  2018     12   23    51  winter        0          14.99   \n",
       "3         15.00  2018     12   23    51  winter        0          14.96   \n",
       "4         13.80  2018     12   23    51  winter        0          16.99   \n",
       "\n",
       "   relative_beer_style_price  beer_style_mean_price  unit_sales_lag_2  \\\n",
       "0                       0.97                  14.96             22.00   \n",
       "1                       1.00                  15.04             22.00   \n",
       "2                       1.00                  15.04             22.00   \n",
       "3                       0.99                  15.04             32.00   \n",
       "4                       0.99                  17.22             33.00   \n",
       "\n",
       "   unit_sales_lag_5  unit_sales_rolling_mean  \n",
       "0             22.00                    30.50  \n",
       "1             22.00                    30.50  \n",
       "2             22.00                    30.50  \n",
       "3             22.00                    30.50  \n",
       "4             22.00                    30.50  "
      ]
     },
     "execution_count": 149,
     "metadata": {},
     "output_type": "execute_result"
    }
   ],
   "source": [
    "df_rolling_window.head()"
   ]
  },
  {
   "cell_type": "markdown",
   "id": "510f590e",
   "metadata": {},
   "source": [
    "## Statistical test to check stationarity in time series \n",
    "\n",
    "**We will experiment with `Augmented Dickey-Fuller (ADF)`**"
   ]
  },
  {
   "cell_type": "markdown",
   "id": "3af927a7",
   "metadata": {},
   "source": [
    "**Null Hypothesis (HO): Series is non-stationary.**\n",
    "\n",
    "**Alternate Hypothesis(HA): Series is stationary.**"
   ]
  },
  {
   "cell_type": "code",
   "execution_count": 220,
   "id": "981504d0",
   "metadata": {},
   "outputs": [
    {
     "name": "stdout",
     "output_type": "stream",
     "text": [
      "Results of Dickey-Fuller Test:\n",
      "Test Statistic                   -12.15\n",
      "p-value                            0.00\n",
      "#Lags Used                        43.00\n",
      "Number of Observations Used   16,313.00\n",
      "Critical Value (1%)               -3.43\n",
      "Critical Value (5%)               -2.86\n",
      "Critical Value (10%)              -2.57\n",
      "dtype: float64\n"
     ]
    }
   ],
   "source": [
    "# Changing the YEAR data type and setting it as index\n",
    "df_copy = df.copy()\n",
    "df_copy.index = df_copy['dates']\n",
    "\n",
    "del df_copy['dates']\n",
    "\n",
    "# ADF Test\n",
    "from statsmodels.tsa.stattools import adfuller\n",
    "\n",
    "def adf_test(timeseries):\n",
    "    print ('Results of Dickey-Fuller Test:')\n",
    "    dftest = adfuller(timeseries, autolag='AIC')\n",
    "    dfoutput = pd.Series(dftest[0:4], index=['Test Statistic','p-value','#Lags Used','Number of Observations Used'])\n",
    "    for key,value in dftest[4].items():\n",
    "        dfoutput['Critical Value (%s)'%key] = value\n",
    "    print (dfoutput)\n",
    "    \n",
    "\n",
    "# Run test\n",
    "adf_test(df_copy['unit_sales'])\n"
   ]
  },
  {
   "cell_type": "markdown",
   "id": "2ba04278",
   "metadata": {},
   "source": [
    "**The p-value is significant and hence, we can reject the null hypothesis and as expected, declare that the time series is infact stationary which is an assumption for the time series models.**"
   ]
  },
  {
   "cell_type": "markdown",
   "id": "fe487b51",
   "metadata": {},
   "source": [
    "## Run statistical tests to understand impact of features on power consumption"
   ]
  },
  {
   "cell_type": "markdown",
   "id": "c0b8c4eb",
   "metadata": {},
   "source": [
    "**Run ANOVA, Kruskal-Wallis and post hoc tests for the categorical features to understand if the group means are statistically significant.**"
   ]
  },
  {
   "cell_type": "code",
   "execution_count": 221,
   "id": "c63945ad",
   "metadata": {},
   "outputs": [
    {
     "name": "stdout",
     "output_type": "stream",
     "text": [
      "600.1916825776608 0.0\n"
     ]
    }
   ],
   "source": [
    "anova_args = tuple(df.groupby('beer_style_value')['unit_sales'].apply(list).reset_index()['unit_sales'])\n",
    "f_statistic, p_value = scipy.stats.f_oneway(*anova_args)\n",
    "\n",
    "print(f_statistic, p_value)"
   ]
  },
  {
   "cell_type": "code",
   "execution_count": 222,
   "id": "fed8eda1",
   "metadata": {},
   "outputs": [
    {
     "name": "stdout",
     "output_type": "stream",
     "text": [
      "              Multiple Comparison of Means - Tukey HSD, FWER=0.05              \n",
      "===============================================================================\n",
      "    group1            group2         meandiff p-adj    lower     upper   reject\n",
      "-------------------------------------------------------------------------------\n",
      "AMERICAN LAGER                  IPA  -93.2781  0.001  -105.802  -80.7542   True\n",
      "AMERICAN LAGER          MALT LIQUOR   82.6907  0.001    70.366   95.0154   True\n",
      "AMERICAN LAGER       TROPICAL LAGER  -82.8779  0.001  -91.8377  -73.9181   True\n",
      "AMERICAN LAGER VARIETY PACK/SAMPLER  -88.4446  0.001   -95.599  -81.2902   True\n",
      "           IPA          MALT LIQUOR  175.9688  0.001  159.7559  192.1818   True\n",
      "           IPA       TROPICAL LAGER   10.4002 0.2414   -3.4288   24.2292  False\n",
      "           IPA VARIETY PACK/SAMPLER    4.8336 0.8177   -7.9001   17.5673  False\n",
      "   MALT LIQUOR       TROPICAL LAGER -165.5686  0.001 -179.2174 -151.9198   True\n",
      "   MALT LIQUOR VARIETY PACK/SAMPLER -171.1353  0.001 -183.6731 -158.5975   True\n",
      "TROPICAL LAGER VARIETY PACK/SAMPLER   -5.5667 0.4717  -14.8175    3.6842  False\n",
      "-------------------------------------------------------------------------------\n"
     ]
    }
   ],
   "source": [
    "# perform multiple pairwise comparison (Tukey HSD)\n",
    "m_comp = pairwise_tukeyhsd(endog=df['unit_sales'], groups=df['beer_style_value'], alpha=0.05)\n",
    "print(m_comp)"
   ]
  },
  {
   "cell_type": "markdown",
   "id": "677f268b",
   "metadata": {},
   "source": [
    "**Running the ANOVA test on the weekdays column to understand if the each of the weekday category mean power consumption is statistically different from each other. And with a small p-value, it does seem like that is the case.** \n",
    "\n",
    "**Running a pairwise post hoc test to understand the differences in pairs of the groups in weekdays - looks like except (Friday, Monday), (Thursday, Tuesday), (Thursday, Wednesday) & (Tuesday, Wednesday) - all the other pairs seem to have statistically significantly different group means.**"
   ]
  },
  {
   "cell_type": "code",
   "execution_count": 223,
   "id": "b5bab9d7",
   "metadata": {},
   "outputs": [
    {
     "name": "stdout",
     "output_type": "stream",
     "text": [
      "0.8123813128063446\n"
     ]
    }
   ],
   "source": [
    "kruskal_args = tuple(df.groupby('holiday')['unit_sales'].apply(list).reset_index()['unit_sales'])\n",
    "h_statistic, p_value = scipy.stats.kruskal(*kruskal_args)\n",
    "print(p_value)"
   ]
  },
  {
   "cell_type": "code",
   "execution_count": 224,
   "id": "04840943",
   "metadata": {},
   "outputs": [
    {
     "name": "stdout",
     "output_type": "stream",
     "text": [
      "Multiple Comparison of Means - Tukey HSD, FWER=0.05\n",
      "===================================================\n",
      "group1 group2 meandiff p-adj   lower  upper  reject\n",
      "---------------------------------------------------\n",
      "     0      1   -2.398 0.4194 -8.2186 3.4227  False\n",
      "---------------------------------------------------\n"
     ]
    }
   ],
   "source": [
    "# perform multiple pairwise comparison (Tukey HSD)\n",
    "m_comp = pairwise_tukeyhsd(endog=df['unit_sales'], groups=df['holiday'], alpha=0.05)\n",
    "print(m_comp)"
   ]
  },
  {
   "cell_type": "markdown",
   "id": "b9cf8572",
   "metadata": {},
   "source": [
    "**Running the Kruskal-wallis test on the non_working column to understand if the two categories have their difference in mean power consumption statistically significant from each other. And with a small p-value, it does seem like that is the case.** "
   ]
  },
  {
   "cell_type": "markdown",
   "id": "f7f16289",
   "metadata": {},
   "source": [
    "## Fill in missing data in individual time series where a wholesaler did not have any sales for the products\n",
    "\n",
    "- `Assumption - All wholesalers get all of the chosen 10 products but there could be few wholesalers with no sales for certain products. We will remove time series where a wholesaler did not sell a particular product even once in the last 5 years.`"
   ]
  },
  {
   "cell_type": "code",
   "execution_count": 195,
   "id": "cccb0c74",
   "metadata": {},
   "outputs": [],
   "source": [
    "unique_wholesalers = list(df.wholesaler_id_value.unique())\n",
    "unique_products = list(df.product_key.unique())"
   ]
  },
  {
   "cell_type": "code",
   "execution_count": 198,
   "id": "d8230d8d",
   "metadata": {
    "scrolled": true
   },
   "outputs": [
    {
     "name": "stdout",
     "output_type": "stream",
     "text": [
      "For wholesaler 3142 & product 210280222 time series, there are 520 weeks in the data\n",
      "For wholesaler 3142 & product 210281267 time series, there are 518 weeks in the data\n",
      "For wholesaler 3142 & product 210283096 time series, there are 524 weeks in the data\n",
      "For wholesaler 3142 & product 210284670 time series, there are 417 weeks in the data\n",
      "For wholesaler 3142 & product 1412422 time series, there are 514 weeks in the data\n",
      "For wholesaler 3142 & product 210281273 time series, there are 526 weeks in the data\n",
      "For wholesaler 3142 & product 659550424 time series, there are 403 weeks in the data\n",
      "For wholesaler 3142 & product 262793636 time series, there are 118 weeks in the data\n",
      "For wholesaler 3142 & product 609521221 time series, there are 173 weeks in the data\n",
      "For wholesaler 3142 & product 1321133691 time series, there are 298 weeks in the data\n",
      "For wholesaler 43100 & product 210280222 time series, there are 321 weeks in the data\n",
      "For wholesaler 43100 & product 210281267 time series, there are 92 weeks in the data\n",
      "For wholesaler 43100 & product 210283096 time series, there are 313 weeks in the data\n",
      "For wholesaler 43100 & product 210284670 time series, there are 299 weeks in the data\n",
      "For wholesaler 43100 & product 1412422 time series, there are 311 weeks in the data\n",
      "For wholesaler 43100 & product 210281273 time series, there are 293 weeks in the data\n",
      "For wholesaler 43100 & product 659550424 time series, there are 110 weeks in the data\n",
      "For wholesaler 43100 & product 262793636 time series, there are 0 weeks in the data\n",
      "For wholesaler 43100 & product 609521221 time series, there are 0 weeks in the data\n",
      "For wholesaler 43100 & product 1321133691 time series, there are 25 weeks in the data\n",
      "For wholesaler 43168 & product 210280222 time series, there are 0 weeks in the data\n",
      "For wholesaler 43168 & product 210281267 time series, there are 0 weeks in the data\n",
      "For wholesaler 43168 & product 210283096 time series, there are 0 weeks in the data\n",
      "For wholesaler 43168 & product 210284670 time series, there are 0 weeks in the data\n",
      "For wholesaler 43168 & product 1412422 time series, there are 263 weeks in the data\n",
      "For wholesaler 43168 & product 210281273 time series, there are 0 weeks in the data\n",
      "For wholesaler 43168 & product 659550424 time series, there are 263 weeks in the data\n",
      "For wholesaler 43168 & product 262793636 time series, there are 263 weeks in the data\n",
      "For wholesaler 43168 & product 609521221 time series, there are 263 weeks in the data\n",
      "For wholesaler 43168 & product 1321133691 time series, there are 256 weeks in the data\n",
      "For wholesaler 83167 & product 210280222 time series, there are 187 weeks in the data\n",
      "For wholesaler 83167 & product 210281267 time series, there are 192 weeks in the data\n",
      "For wholesaler 83167 & product 210283096 time series, there are 36 weeks in the data\n",
      "For wholesaler 83167 & product 210284670 time series, there are 131 weeks in the data\n",
      "For wholesaler 83167 & product 1412422 time series, there are 184 weeks in the data\n",
      "For wholesaler 83167 & product 210281273 time series, there are 192 weeks in the data\n",
      "For wholesaler 83167 & product 659550424 time series, there are 188 weeks in the data\n",
      "For wholesaler 83167 & product 262793636 time series, there are 94 weeks in the data\n",
      "For wholesaler 83167 & product 609521221 time series, there are 139 weeks in the data\n",
      "For wholesaler 83167 & product 1321133691 time series, there are 173 weeks in the data\n",
      "For wholesaler 34206 & product 210280222 time series, there are 222 weeks in the data\n",
      "For wholesaler 34206 & product 210281267 time series, there are 262 weeks in the data\n",
      "For wholesaler 34206 & product 210283096 time series, there are 0 weeks in the data\n",
      "For wholesaler 34206 & product 210284670 time series, there are 142 weeks in the data\n",
      "For wholesaler 34206 & product 1412422 time series, there are 258 weeks in the data\n",
      "For wholesaler 34206 & product 210281273 time series, there are 0 weeks in the data\n",
      "For wholesaler 34206 & product 659550424 time series, there are 263 weeks in the data\n",
      "For wholesaler 34206 & product 262793636 time series, there are 248 weeks in the data\n",
      "For wholesaler 34206 & product 609521221 time series, there are 245 weeks in the data\n",
      "For wholesaler 34206 & product 1321133691 time series, there are 228 weeks in the data\n",
      "For wholesaler 44223 & product 210280222 time series, there are 263 weeks in the data\n",
      "For wholesaler 44223 & product 210281267 time series, there are 263 weeks in the data\n",
      "For wholesaler 44223 & product 210283096 time series, there are 1 weeks in the data\n",
      "For wholesaler 44223 & product 210284670 time series, there are 1 weeks in the data\n",
      "For wholesaler 44223 & product 1412422 time series, there are 486 weeks in the data\n",
      "For wholesaler 44223 & product 210281273 time series, there are 0 weeks in the data\n",
      "For wholesaler 44223 & product 659550424 time series, there are 364 weeks in the data\n",
      "For wholesaler 44223 & product 262793636 time series, there are 106 weeks in the data\n",
      "For wholesaler 44223 & product 609521221 time series, there are 144 weeks in the data\n",
      "For wholesaler 44223 & product 1321133691 time series, there are 295 weeks in the data\n",
      "For wholesaler 44276 & product 210280222 time series, there are 452 weeks in the data\n",
      "For wholesaler 44276 & product 210281267 time series, there are 452 weeks in the data\n",
      "For wholesaler 44276 & product 210283096 time series, there are 0 weeks in the data\n",
      "For wholesaler 44276 & product 210284670 time series, there are 171 weeks in the data\n",
      "For wholesaler 44276 & product 1412422 time series, there are 190 weeks in the data\n",
      "For wholesaler 44276 & product 210281273 time series, there are 61 weeks in the data\n",
      "For wholesaler 44276 & product 659550424 time series, there are 320 weeks in the data\n",
      "For wholesaler 44276 & product 262793636 time series, there are 116 weeks in the data\n",
      "For wholesaler 44276 & product 609521221 time series, there are 129 weeks in the data\n",
      "For wholesaler 44276 & product 1321133691 time series, there are 345 weeks in the data\n",
      "For wholesaler 64221 & product 210280222 time series, there are 191 weeks in the data\n",
      "For wholesaler 64221 & product 210281267 time series, there are 191 weeks in the data\n",
      "For wholesaler 64221 & product 210283096 time series, there are 34 weeks in the data\n",
      "For wholesaler 64221 & product 210284670 time series, there are 190 weeks in the data\n",
      "For wholesaler 64221 & product 1412422 time series, there are 349 weeks in the data\n",
      "For wholesaler 64221 & product 210281273 time series, there are 64 weeks in the data\n",
      "For wholesaler 64221 & product 659550424 time series, there are 208 weeks in the data\n",
      "For wholesaler 64221 & product 262793636 time series, there are 149 weeks in the data\n",
      "For wholesaler 64221 & product 609521221 time series, there are 152 weeks in the data\n",
      "For wholesaler 64221 & product 1321133691 time series, there are 203 weeks in the data\n"
     ]
    }
   ],
   "source": [
    "for w in unique_wholesalers:\n",
    "    for p in unique_products:\n",
    "        df_small = df[(df['wholesaler_id_value']== w) & (df['product_key']== p)]\n",
    "        print(f'For wholesaler {w} & product {p} time series, there are {df_small.shape[0]} weeks in the data')"
   ]
  },
  {
   "cell_type": "code",
   "execution_count": 199,
   "id": "339d1113",
   "metadata": {},
   "outputs": [
    {
     "data": {
      "text/plain": [
       "revised_dates               0\n",
       "wholesaler_id_value_x       0\n",
       "product_key_x               0\n",
       "dates                    8039\n",
       "unit_sales                  0\n",
       "dollar_sales                0\n",
       "volume_sales                0\n",
       "dtype: int64"
      ]
     },
     "execution_count": 199,
     "metadata": {},
     "output_type": "execute_result"
    }
   ],
   "source": [
    "revised_df_list = []\n",
    "\n",
    "for w in unique_wholesalers:\n",
    "    for p in unique_products:\n",
    "        \n",
    "        df_small = df[(df['wholesaler_id_value']== w) & (df['product_key']== p)]\n",
    "        \n",
    "        new_df = pd.DataFrame()\n",
    "        new_df['revised_dates'] = pd.date_range(start='2018-01-07', end='2023-01-15', freq='W')\n",
    "        \n",
    "        new_df['wholesaler_id_value'] = w\n",
    "        new_df['product_key'] = p\n",
    "    \n",
    "        df_small = df_small[['dates', 'wholesaler_id_value', 'product_key',\n",
    "                             'unit_sales', 'dollar_sales', 'volume_sales']]\n",
    "        \n",
    "        new_df = new_df.merge(df_small, how='left', left_on='revised_dates', right_on='dates')\n",
    "        new_df.drop(['wholesaler_id_value_y', 'product_key_y'], axis=1, inplace=True)\n",
    "        \n",
    "        revised_df_list.append(new_df)\n",
    "        \n",
    "revised_df = pd.concat(revised_df_list)\n",
    "revised_df['unit_sales'] = revised_df['unit_sales'].fillna(0)\n",
    "revised_df['dollar_sales'] = revised_df['unit_sales'].fillna(0)\n",
    "revised_df['volume_sales'] = revised_df['unit_sales'].fillna(0)\n",
    "\n",
    "\n",
    "revised_df.isnull().sum()"
   ]
  },
  {
   "cell_type": "code",
   "execution_count": 200,
   "id": "6ce82723",
   "metadata": {},
   "outputs": [
    {
     "data": {
      "text/plain": [
       "(24396, 7)"
      ]
     },
     "execution_count": 200,
     "metadata": {},
     "output_type": "execute_result"
    }
   ],
   "source": [
    "revised_df.shape"
   ]
  },
  {
   "cell_type": "code",
   "execution_count": 201,
   "id": "7d24777c",
   "metadata": {},
   "outputs": [
    {
     "data": {
      "text/html": [
       "<div>\n",
       "<style scoped>\n",
       "    .dataframe tbody tr th:only-of-type {\n",
       "        vertical-align: middle;\n",
       "    }\n",
       "\n",
       "    .dataframe tbody tr th {\n",
       "        vertical-align: top;\n",
       "    }\n",
       "\n",
       "    .dataframe thead th {\n",
       "        text-align: right;\n",
       "    }\n",
       "</style>\n",
       "<table border=\"1\" class=\"dataframe\">\n",
       "  <thead>\n",
       "    <tr style=\"text-align: right;\">\n",
       "      <th></th>\n",
       "      <th>revised_dates</th>\n",
       "      <th>wholesaler_id_value_x</th>\n",
       "      <th>product_key_x</th>\n",
       "      <th>dates</th>\n",
       "      <th>unit_sales</th>\n",
       "      <th>dollar_sales</th>\n",
       "      <th>volume_sales</th>\n",
       "    </tr>\n",
       "  </thead>\n",
       "  <tbody>\n",
       "    <tr>\n",
       "      <th>0</th>\n",
       "      <td>2018-01-07</td>\n",
       "      <td>3142</td>\n",
       "      <td>210280222</td>\n",
       "      <td>2018-01-07</td>\n",
       "      <td>54.00</td>\n",
       "      <td>54.00</td>\n",
       "      <td>54.00</td>\n",
       "    </tr>\n",
       "    <tr>\n",
       "      <th>1</th>\n",
       "      <td>2018-01-07</td>\n",
       "      <td>3142</td>\n",
       "      <td>210280222</td>\n",
       "      <td>2018-01-07</td>\n",
       "      <td>9.00</td>\n",
       "      <td>9.00</td>\n",
       "      <td>9.00</td>\n",
       "    </tr>\n",
       "    <tr>\n",
       "      <th>2</th>\n",
       "      <td>2018-01-14</td>\n",
       "      <td>3142</td>\n",
       "      <td>210280222</td>\n",
       "      <td>2018-01-14</td>\n",
       "      <td>62.00</td>\n",
       "      <td>62.00</td>\n",
       "      <td>62.00</td>\n",
       "    </tr>\n",
       "    <tr>\n",
       "      <th>3</th>\n",
       "      <td>2018-01-14</td>\n",
       "      <td>3142</td>\n",
       "      <td>210280222</td>\n",
       "      <td>2018-01-14</td>\n",
       "      <td>2.00</td>\n",
       "      <td>2.00</td>\n",
       "      <td>2.00</td>\n",
       "    </tr>\n",
       "    <tr>\n",
       "      <th>4</th>\n",
       "      <td>2018-01-21</td>\n",
       "      <td>3142</td>\n",
       "      <td>210280222</td>\n",
       "      <td>2018-01-21</td>\n",
       "      <td>59.00</td>\n",
       "      <td>59.00</td>\n",
       "      <td>59.00</td>\n",
       "    </tr>\n",
       "  </tbody>\n",
       "</table>\n",
       "</div>"
      ],
      "text/plain": [
       "  revised_dates  wholesaler_id_value_x  product_key_x      dates  unit_sales  \\\n",
       "0    2018-01-07                   3142      210280222 2018-01-07       54.00   \n",
       "1    2018-01-07                   3142      210280222 2018-01-07        9.00   \n",
       "2    2018-01-14                   3142      210280222 2018-01-14       62.00   \n",
       "3    2018-01-14                   3142      210280222 2018-01-14        2.00   \n",
       "4    2018-01-21                   3142      210280222 2018-01-21       59.00   \n",
       "\n",
       "   dollar_sales  volume_sales  \n",
       "0         54.00         54.00  \n",
       "1          9.00          9.00  \n",
       "2         62.00         62.00  \n",
       "3          2.00          2.00  \n",
       "4         59.00         59.00  "
      ]
     },
     "execution_count": 201,
     "metadata": {},
     "output_type": "execute_result"
    }
   ],
   "source": [
    "revised_df.head()"
   ]
  },
  {
   "cell_type": "markdown",
   "id": "1d63b473",
   "metadata": {},
   "source": [
    "## Save the final data"
   ]
  },
  {
   "cell_type": "code",
   "execution_count": 154,
   "id": "1a02b5a8",
   "metadata": {},
   "outputs": [],
   "source": [
    "df_with_features = df_rolling_window.copy()\n",
    "df_with_features.to_csv('data/beer_data_with_features.csv', index=False)"
   ]
  },
  {
   "cell_type": "code",
   "execution_count": null,
   "id": "60aabf0b",
   "metadata": {},
   "outputs": [],
   "source": []
  }
 ],
 "metadata": {
  "kernelspec": {
   "display_name": "Python 3 (ipykernel)",
   "language": "python",
   "name": "python3"
  },
  "language_info": {
   "codemirror_mode": {
    "name": "ipython",
    "version": 3
   },
   "file_extension": ".py",
   "mimetype": "text/x-python",
   "name": "python",
   "nbconvert_exporter": "python",
   "pygments_lexer": "ipython3",
   "version": "3.9.13"
  }
 },
 "nbformat": 4,
 "nbformat_minor": 5
}
